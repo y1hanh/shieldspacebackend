{
 "cells": [
  {
   "cell_type": "code",
   "execution_count": 3,
   "metadata": {},
   "outputs": [],
   "source": [
    "import pandas as pd\n",
    "from sklearn.model_selection import train_test_split"
   ]
  },
  {
   "cell_type": "code",
   "execution_count": 4,
   "metadata": {},
   "outputs": [],
   "source": [
    "# Load your dataset\n",
    "# Assuming twitter_cleaned_dataset is already loaded as a pandas DataFrame\n",
    "twitter_cleaned_dataset = pd.read_csv('twitter_cleaned_dataset.csv')\n",
    "\n",
    "\n",
    "# Map 'Annotation' to 'oh_label' where sexism -> 1, racism -> 0\n",
    "twitter_cleaned_dataset['oh_label'] = twitter_cleaned_dataset['Annotation'].map({'sexism': 1, 'racism': 0})\n",
    "\n",
    "# Split the data into features (X) and target (y)\n",
    "X = twitter_cleaned_dataset['cleaned_text']\n",
    "y = twitter_cleaned_dataset['oh_label']\n"
   ]
  },
  {
   "cell_type": "code",
   "execution_count": 5,
   "metadata": {},
   "outputs": [],
   "source": [
    "from sklearn.utils import resample\n",
    "\n",
    "# Concatenate X and y to create a single DataFrame\n",
    "df = pd.concat([X, y], axis=1)\n",
    "\n",
    "# Separate the classes\n",
    "sexism_df = df[df['oh_label'] == 1]\n",
    "racism_df = df[df['oh_label'] == 0]\n",
    "\n",
    "# Undersample sexism (majority class) to match the number of racism (minority class)\n",
    "sexism_undersampled = resample(sexism_df, \n",
    "                               replace=False,    # Sample without replacement\n",
    "                               n_samples=len(racism_df),  # Match the minority class size\n",
    "                               random_state=42)  # For reproducibility\n",
    "\n",
    "# Combine the undersampled sexism data with racism data\n",
    "balanced_df = pd.concat([sexism_undersampled, racism_df])\n",
    "\n",
    "# Shuffle the data\n",
    "balanced_df = balanced_df.sample(frac=1, random_state=42)\n",
    "\n",
    "# Split into features and target again\n",
    "X_balanced = balanced_df['cleaned_text']\n",
    "y_balanced = balanced_df['oh_label']"
   ]
  },
  {
   "cell_type": "code",
   "execution_count": 6,
   "metadata": {},
   "outputs": [],
   "source": [
    "from sklearn.feature_extraction.text import TfidfVectorizer\n",
    "\n",
    "# Initialize the TF-IDF vectorizer\n",
    "vectorizer = TfidfVectorizer(stop_words='english', max_features=5000)\n",
    "\n",
    "# Fill NaN values with an empty string\n",
    "X_balanced = X_balanced.fillna('')\n",
    "\n",
    "# Fit and transform the training data\n",
    "X_vec = vectorizer.fit_transform(X_balanced)\n"
   ]
  },
  {
   "cell_type": "code",
   "execution_count": 7,
   "metadata": {},
   "outputs": [
    {
     "name": "stdout",
     "output_type": "stream",
     "text": [
      "              precision    recall  f1-score   support\n",
      "\n",
      "           0       0.99      0.96      0.98      1970\n",
      "           1       0.96      0.99      0.98      1970\n",
      "\n",
      "    accuracy                           0.98      3940\n",
      "   macro avg       0.98      0.98      0.98      3940\n",
      "weighted avg       0.98      0.98      0.98      3940\n",
      "\n"
     ]
    }
   ],
   "source": [
    "from sklearn.linear_model import LogisticRegression\n",
    "from sklearn.metrics import classification_report\n",
    "\n",
    "# Initialize Logistic Regression with class weight\n",
    "model = LogisticRegression(class_weight='balanced', random_state=42)\n",
    "\n",
    "# Train the model\n",
    "model.fit(X_vec, y_balanced)\n",
    "\n",
    "# Make predictions on the training data\n",
    "y_pred = model.predict(X_vec)\n",
    "\n",
    "# Evaluate the model\n",
    "print(classification_report(y_balanced, y_pred))"
   ]
  },
  {
   "cell_type": "code",
   "execution_count": 8,
   "metadata": {},
   "outputs": [],
   "source": [
    "def predict_tweet(tweet, model, vectorizer):\n",
    "    # Transform the input tweet using the same TF-IDF vectorizer\n",
    "    tweet_vec = vectorizer.transform([tweet])\n",
    "    \n",
    "    # Use the model to predict whether it's sexist (1) or racist (0)\n",
    "    prediction = model.predict(tweet_vec)\n",
    "    \n",
    "    # Return the prediction label\n",
    "    if prediction == 1:\n",
    "        return \"Sexist\"\n",
    "    else:\n",
    "        return \"Racist\"\n"
   ]
  },
  {
   "cell_type": "code",
   "execution_count": 9,
   "metadata": {},
   "outputs": [
    {
     "name": "stdout",
     "output_type": "stream",
     "text": [
      "The tweet is classified as: Racist\n",
      "The tweet is classified as: Racist\n",
      "The tweet is classified as: Sexist\n",
      "The tweet is classified as: Sexist\n",
      "The tweet is classified as: Sexist\n",
      "The tweet is classified as: Sexist\n"
     ]
    },
    {
     "ename": "KeyboardInterrupt",
     "evalue": "Interrupted by user",
     "output_type": "error",
     "traceback": [
      "\u001b[1;31m---------------------------------------------------------------------------\u001b[0m",
      "\u001b[1;31mKeyboardInterrupt\u001b[0m                         Traceback (most recent call last)",
      "Cell \u001b[1;32mIn[9], line 3\u001b[0m\n\u001b[0;32m      1\u001b[0m \u001b[38;5;66;03m# User input loop to classify tweets\u001b[39;00m\n\u001b[0;32m      2\u001b[0m \u001b[38;5;28;01mwhile\u001b[39;00m \u001b[38;5;28;01mTrue\u001b[39;00m:\n\u001b[1;32m----> 3\u001b[0m     tweet_input \u001b[38;5;241m=\u001b[39m \u001b[38;5;28minput\u001b[39m(\u001b[38;5;124m\"\u001b[39m\u001b[38;5;124mEnter a tweet to classify (or type \u001b[39m\u001b[38;5;124m'\u001b[39m\u001b[38;5;124mexit\u001b[39m\u001b[38;5;124m'\u001b[39m\u001b[38;5;124m to quit): \u001b[39m\u001b[38;5;124m\"\u001b[39m)\n\u001b[0;32m      5\u001b[0m     \u001b[38;5;28;01mif\u001b[39;00m tweet_input\u001b[38;5;241m.\u001b[39mlower() \u001b[38;5;241m==\u001b[39m \u001b[38;5;124m'\u001b[39m\u001b[38;5;124mexit\u001b[39m\u001b[38;5;124m'\u001b[39m:\n\u001b[0;32m      6\u001b[0m         \u001b[38;5;28;01mbreak\u001b[39;00m\n",
      "File \u001b[1;32mc:\\Users\\Jeevan\\anaconda3\\Lib\\site-packages\\ipykernel\\kernelbase.py:1262\u001b[0m, in \u001b[0;36mKernel.raw_input\u001b[1;34m(self, prompt)\u001b[0m\n\u001b[0;32m   1260\u001b[0m     msg \u001b[38;5;241m=\u001b[39m \u001b[38;5;124m\"\u001b[39m\u001b[38;5;124mraw_input was called, but this frontend does not support input requests.\u001b[39m\u001b[38;5;124m\"\u001b[39m\n\u001b[0;32m   1261\u001b[0m     \u001b[38;5;28;01mraise\u001b[39;00m StdinNotImplementedError(msg)\n\u001b[1;32m-> 1262\u001b[0m \u001b[38;5;28;01mreturn\u001b[39;00m \u001b[38;5;28mself\u001b[39m\u001b[38;5;241m.\u001b[39m_input_request(\n\u001b[0;32m   1263\u001b[0m     \u001b[38;5;28mstr\u001b[39m(prompt),\n\u001b[0;32m   1264\u001b[0m     \u001b[38;5;28mself\u001b[39m\u001b[38;5;241m.\u001b[39m_parent_ident[\u001b[38;5;124m\"\u001b[39m\u001b[38;5;124mshell\u001b[39m\u001b[38;5;124m\"\u001b[39m],\n\u001b[0;32m   1265\u001b[0m     \u001b[38;5;28mself\u001b[39m\u001b[38;5;241m.\u001b[39mget_parent(\u001b[38;5;124m\"\u001b[39m\u001b[38;5;124mshell\u001b[39m\u001b[38;5;124m\"\u001b[39m),\n\u001b[0;32m   1266\u001b[0m     password\u001b[38;5;241m=\u001b[39m\u001b[38;5;28;01mFalse\u001b[39;00m,\n\u001b[0;32m   1267\u001b[0m )\n",
      "File \u001b[1;32mc:\\Users\\Jeevan\\anaconda3\\Lib\\site-packages\\ipykernel\\kernelbase.py:1305\u001b[0m, in \u001b[0;36mKernel._input_request\u001b[1;34m(self, prompt, ident, parent, password)\u001b[0m\n\u001b[0;32m   1302\u001b[0m \u001b[38;5;28;01mexcept\u001b[39;00m \u001b[38;5;167;01mKeyboardInterrupt\u001b[39;00m:\n\u001b[0;32m   1303\u001b[0m     \u001b[38;5;66;03m# re-raise KeyboardInterrupt, to truncate traceback\u001b[39;00m\n\u001b[0;32m   1304\u001b[0m     msg \u001b[38;5;241m=\u001b[39m \u001b[38;5;124m\"\u001b[39m\u001b[38;5;124mInterrupted by user\u001b[39m\u001b[38;5;124m\"\u001b[39m\n\u001b[1;32m-> 1305\u001b[0m     \u001b[38;5;28;01mraise\u001b[39;00m \u001b[38;5;167;01mKeyboardInterrupt\u001b[39;00m(msg) \u001b[38;5;28;01mfrom\u001b[39;00m \u001b[38;5;28;01mNone\u001b[39;00m\n\u001b[0;32m   1306\u001b[0m \u001b[38;5;28;01mexcept\u001b[39;00m \u001b[38;5;167;01mException\u001b[39;00m:\n\u001b[0;32m   1307\u001b[0m     \u001b[38;5;28mself\u001b[39m\u001b[38;5;241m.\u001b[39mlog\u001b[38;5;241m.\u001b[39mwarning(\u001b[38;5;124m\"\u001b[39m\u001b[38;5;124mInvalid Message:\u001b[39m\u001b[38;5;124m\"\u001b[39m, exc_info\u001b[38;5;241m=\u001b[39m\u001b[38;5;28;01mTrue\u001b[39;00m)\n",
      "\u001b[1;31mKeyboardInterrupt\u001b[0m: Interrupted by user"
     ]
    }
   ],
   "source": [
    "# User input loop to classify tweets\n",
    "while True:\n",
    "    tweet_input = input(\"Enter a tweet to classify (or type 'exit' to quit): \")\n",
    "    \n",
    "    if tweet_input.lower() == 'exit':\n",
    "        break\n",
    "    \n",
    "    # Classify the tweet\n",
    "    result = predict_tweet(tweet_input, model, vectorizer)\n",
    "    \n",
    "    # Output the result\n",
    "    print(f\"The tweet is classified as: {result}\")\n"
   ]
  },
  {
   "cell_type": "code",
   "execution_count": null,
   "metadata": {},
   "outputs": [
    {
     "data": {
      "text/plain": [
       "['tfidf_vectorizer.pkl']"
      ]
     },
     "execution_count": 11,
     "metadata": {},
     "output_type": "execute_result"
    }
   ],
   "source": [
    "import joblib\n",
    "\n",
    "\n",
    "joblib.dump(vectorizer, 'tfidf_vectorizer.pkl')"
   ]
  },
  {
   "cell_type": "code",
   "execution_count": 12,
   "metadata": {},
   "outputs": [
    {
     "data": {
      "text/plain": [
       "['sexism_racism_model.pkl']"
      ]
     },
     "execution_count": 12,
     "metadata": {},
     "output_type": "execute_result"
    }
   ],
   "source": [
    "joblib.dump(model, 'sexism_racism_model.pkl')"
   ]
  },
  {
   "cell_type": "code",
   "execution_count": 9,
   "metadata": {},
   "outputs": [
    {
     "name": "stderr",
     "output_type": "stream",
     "text": [
      "Some weights of BertForSequenceClassification were not initialized from the model checkpoint at bert-base-uncased and are newly initialized: ['classifier.bias', 'classifier.weight']\n",
      "You should probably TRAIN this model on a down-stream task to be able to use it for predictions and inference.\n"
     ]
    },
    {
     "name": "stdout",
     "output_type": "stream",
     "text": [
      "Epoch 1/3, Loss: 0.1659755674923586, Accuracy: 0.9447619047619048\n",
      "Validation Accuracy: 0.9631979695431472\n",
      "Epoch 2/3, Loss: 0.04945090742247548, Accuracy: 0.9834920634920635\n",
      "Validation Accuracy: 0.9733502538071066\n",
      "Epoch 3/3, Loss: 0.018548237252625905, Accuracy: 0.9942857142857143\n",
      "Validation Accuracy: 0.9746192893401016\n"
     ]
    }
   ],
   "source": [
    "import torch\n",
    "from transformers import BertTokenizer, BertForSequenceClassification\n",
    "from torch.optim import AdamW  # Corrected import\n",
    "from torch.utils.data import DataLoader, Dataset\n",
    "from sklearn.model_selection import train_test_split\n",
    "\n",
    "# Step 1: Prepare the Data\n",
    "# Assuming you already have balanced_df with 'cleaned_text' and 'oh_label'\n",
    "\n",
    "balanced_df = balanced_df.dropna(subset=['cleaned_text'])  # Drop rows where 'cleaned_text' is NaN\n",
    "balanced_df = balanced_df[balanced_df['cleaned_text'].str.strip() != '']  # Remove empty strings\n",
    "\n",
    "\n",
    "# Split the data into train and validation sets\n",
    "train_texts, val_texts, train_labels, val_labels = train_test_split(\n",
    "    balanced_df['cleaned_text'].tolist(),\n",
    "    balanced_df['oh_label'].tolist(),\n",
    "    test_size=0.2,\n",
    "    random_state=42\n",
    ")\n",
    "\n",
    "# Step 2: Tokenize the texts using BERT tokenizer\n",
    "tokenizer = BertTokenizer.from_pretrained('bert-base-uncased')\n",
    "\n",
    "# Create a custom Dataset class\n",
    "class TweetDataset(Dataset):\n",
    "    def __init__(self, texts, labels, tokenizer, max_length=128):\n",
    "        self.texts = texts\n",
    "        self.labels = labels\n",
    "        self.tokenizer = tokenizer\n",
    "        self.max_length = max_length\n",
    "\n",
    "    def __len__(self):\n",
    "        return len(self.texts)\n",
    "\n",
    "    def __getitem__(self, idx):\n",
    "        encoding = self.tokenizer.encode_plus(\n",
    "            self.texts[idx],\n",
    "            add_special_tokens=True,  # Add [CLS] and [SEP] tokens\n",
    "            max_length=self.max_length,\n",
    "            padding='max_length',  # Pad to the max length\n",
    "            truncation=True,  # Truncate texts longer than max_length\n",
    "            return_tensors='pt',  # Return pytorch tensors\n",
    "        )\n",
    "        return {\n",
    "            'input_ids': encoding['input_ids'].flatten(),\n",
    "            'attention_mask': encoding['attention_mask'].flatten(),\n",
    "            'labels': torch.tensor(self.labels[idx], dtype=torch.long)\n",
    "        }\n",
    "\n",
    "# Step 3: Load the data into DataLoader\n",
    "train_dataset = TweetDataset(train_texts, train_labels, tokenizer)\n",
    "val_dataset = TweetDataset(val_texts, val_labels, tokenizer)\n",
    "\n",
    "train_loader = DataLoader(train_dataset, batch_size=16, shuffle=True)\n",
    "val_loader = DataLoader(val_dataset, batch_size=16)\n",
    "\n",
    "# Step 4: Load the pre-trained BERT model\n",
    "model = BertForSequenceClassification.from_pretrained('bert-base-uncased', num_labels=2)\n",
    "\n",
    "# Step 5: Setup optimizer and training device (GPU if available)\n",
    "device = torch.device('cuda') if torch.cuda.is_available() else torch.device('cpu')\n",
    "model.to(device)\n",
    "\n",
    "optimizer = AdamW(model.parameters(), lr=2e-5)\n",
    "\n",
    "# Step 6: Train the Model\n",
    "epochs = 3\n",
    "for epoch in range(epochs):\n",
    "    model.train()\n",
    "    total_loss = 0\n",
    "    correct_predictions = 0\n",
    "    total_predictions = 0\n",
    "\n",
    "    for batch in train_loader:\n",
    "        optimizer.zero_grad()\n",
    "\n",
    "        # Move batch to device\n",
    "        input_ids = batch['input_ids'].to(device)\n",
    "        attention_mask = batch['attention_mask'].to(device)\n",
    "        labels = batch['labels'].to(device)\n",
    "\n",
    "        # Forward pass\n",
    "        outputs = model(input_ids=input_ids, attention_mask=attention_mask, labels=labels)\n",
    "        loss = outputs.loss\n",
    "        logits = outputs.logits\n",
    "\n",
    "        # Backward pass and optimization\n",
    "        loss.backward()\n",
    "        optimizer.step()\n",
    "\n",
    "        total_loss += loss.item()\n",
    "\n",
    "        # Calculate accuracy\n",
    "        preds = torch.argmax(logits, dim=1)\n",
    "        correct_predictions += (preds == labels).sum().item()\n",
    "        total_predictions += labels.size(0)\n",
    "\n",
    "    # Print training loss and accuracy for this epoch\n",
    "    avg_loss = total_loss / len(train_loader)\n",
    "    accuracy = correct_predictions / total_predictions\n",
    "    print(f\"Epoch {epoch+1}/{epochs}, Loss: {avg_loss}, Accuracy: {accuracy}\")\n",
    "\n",
    "    # Step 7: Validate the Model\n",
    "    model.eval()\n",
    "    val_correct_predictions = 0\n",
    "    val_total_predictions = 0\n",
    "\n",
    "    with torch.no_grad():\n",
    "        for batch in val_loader:\n",
    "            input_ids = batch['input_ids'].to(device)\n",
    "            attention_mask = batch['attention_mask'].to(device)\n",
    "            labels = batch['labels'].to(device)\n",
    "\n",
    "            outputs = model(input_ids=input_ids, attention_mask=attention_mask, labels=labels)\n",
    "            logits = outputs.logits\n",
    "\n",
    "            preds = torch.argmax(logits, dim=1)\n",
    "            val_correct_predictions += (preds == labels).sum().item()\n",
    "            val_total_predictions += labels.size(0)\n",
    "\n",
    "    val_accuracy = val_correct_predictions / val_total_predictions\n",
    "    print(f\"Validation Accuracy: {val_accuracy}\")\n",
    "\n",
    "# Step 8: Save the model\n",
    "torch.save(model.state_dict(), 'sexism_racism_bert_model.pth')\n"
   ]
  },
  {
   "cell_type": "code",
   "execution_count": 7,
   "metadata": {},
   "outputs": [
    {
     "name": "stderr",
     "output_type": "stream",
     "text": [
      "Some weights of BertForSequenceClassification were not initialized from the model checkpoint at bert-base-uncased and are newly initialized: ['classifier.bias', 'classifier.weight']\n",
      "You should probably TRAIN this model on a down-stream task to be able to use it for predictions and inference.\n"
     ]
    }
   ],
   "source": [
    "import torch\n",
    "from transformers import BertForSequenceClassification\n",
    "from torch.utils.data import DataLoader, Dataset\n",
    "\n",
    "# Load the saved model\n",
    "model = BertForSequenceClassification.from_pretrained('bert-base-uncased', num_labels=2)\n",
    "model.load_state_dict(torch.load('sexism_racism_bert_model.pth'))\n",
    "model.eval()  # Set the model to evaluation mode\n",
    "\n",
    "from transformers import BertTokenizer\n",
    "\n",
    "# Load the tokenizer\n",
    "tokenizer = BertTokenizer.from_pretrained('bert-base-uncased')\n",
    "\n",
    "import pandas as pd\n",
    "\n",
    "\n",
    "twitter_data = pd.read_csv('twitter_cleaned_dataset.csv')\n",
    "# Ensure 'cleaned_text' is a valid column and remove empty rows\n",
    "twitter_data = twitter_data[twitter_data['cleaned_text'].str.strip() != '']\n",
    "\n",
    "# Define device (CUDA for GPU or CPU)\n",
    "device = torch.device('cuda') if torch.cuda.is_available() else torch.device('cpu')\n",
    "\n",
    "# Load the model to the device\n",
    "model.to(device)\n",
    "\n",
    "\n",
    "# Function to predict tweet class\n",
    "def predict_tweet(tweet):\n",
    "    encoding = tokenizer.encode_plus(\n",
    "        tweet,\n",
    "        add_special_tokens=True,\n",
    "        max_length=128,\n",
    "        padding='max_length',\n",
    "        truncation=True,\n",
    "        return_tensors='pt'\n",
    "    )\n",
    "    \n",
    "    # Move the tensors to the same device as the model\n",
    "    input_ids = encoding['input_ids'].to(device)\n",
    "    attention_mask = encoding['attention_mask'].to(device)\n",
    "\n",
    "    with torch.no_grad():\n",
    "        outputs = model(input_ids=input_ids, attention_mask=attention_mask)\n",
    "        logits = outputs.logits\n",
    "\n",
    "    prediction = torch.argmax(logits, dim=1).item()\n",
    "    return \"Sexist\" if prediction == 1 else \"Racist\"\n"
   ]
  },
  {
   "cell_type": "code",
   "execution_count": 9,
   "metadata": {},
   "outputs": [
    {
     "name": "stdout",
     "output_type": "stream",
     "text": [
      "             formatted_id                                       cleaned_text  \\\n",
      "0  5767-4933-6190-5250-56  muslim mob violence against hindus in banglade...   \n",
      "1  5678-4332-0338-1249-92  islamophobia is like the idea of naziphobia. i...   \n",
      "2  5646-0409-0752-0609-92  islam invaded and conquered 2/3 of christiando...   \n",
      "3  5633-6995-6734-0300-16  do you approve of your pedophile prophet rapin...   \n",
      "4  5669-8397-0571-5790-08  problem with vile muslims is that they try to ...   \n",
      "\n",
      "  Annotation  oh_label                                  users hashtags  \\\n",
      "0     racism       1.0                         @AAlwuhaib1977   #Islam   \n",
      "1     racism       1.0  @jncatron @isra_jourisra @AMPalestine      NaN   \n",
      "2     racism       1.0                         @HuffPostRelig      NaN   \n",
      "3     racism       1.0                               @semzyxx      NaN   \n",
      "4     racism       1.0               @watan71969 @geeky_zekey      NaN   \n",
      "\n",
      "                    links predictions  \n",
      "0  http://t.co/C1JBWJwuRc      Racist  \n",
      "1                     NaN      Racist  \n",
      "2                     NaN      Racist  \n",
      "3                     NaN      Racist  \n",
      "4                     NaN      Racist  \n"
     ]
    }
   ],
   "source": [
    "# Remove rows where 'cleaned_text' is NaN\n",
    "twitter_data = twitter_data.dropna(subset=['cleaned_text'])\n",
    "\n",
    "# Apply the prediction function to each tweet in the 'cleaned_text' column\n",
    "predictions = twitter_data['cleaned_text'].apply(predict_tweet)\n",
    "\n",
    "# Add predictions to the dataset\n",
    "twitter_data['predictions'] = predictions\n",
    "\n",
    "# Display the first few rows of the updated dataset\n",
    "print(twitter_data.head())"
   ]
  },
  {
   "cell_type": "code",
   "execution_count": 14,
   "metadata": {},
   "outputs": [],
   "source": [
    "# Save the dataset with predictions to a new CSV file\n",
    "twitter_data.to_csv('twitter_data_with_predictions.csv', index=False)\n"
   ]
  },
  {
   "cell_type": "code",
   "execution_count": 15,
   "metadata": {},
   "outputs": [
    {
     "name": "stderr",
     "output_type": "stream",
     "text": [
      "C:\\Users\\Jeevan\\AppData\\Local\\Temp\\ipykernel_39116\\2244107461.py:8: FutureWarning: \n",
      "\n",
      "Passing `palette` without assigning `hue` is deprecated and will be removed in v0.14.0. Assign the `x` variable to `hue` and set `legend=False` for the same effect.\n",
      "\n",
      "  sns.countplot(x='predictions', data=twitter_data_with_predictions, palette='viridis')\n"
     ]
    },
    {
     "data": {
      "image/png": "[encoded data removed]",
      "text/plain": [
       "<Figure size 800x600 with 1 Axes>"
      ]
     },
     "metadata": {},
     "output_type": "display_data"
    }
   ],
   "source": [
    "import matplotlib.pyplot as plt\n",
    "import seaborn as sns\n",
    "\n",
    "twitter_data_with_predictions = pd.read_csv('twitter_data_with_predictions.csv')\n",
    "\n",
    "# Plot the distribution of the predictions\n",
    "plt.figure(figsize=(8, 6))\n",
    "sns.countplot(x='predictions', data=twitter_data_with_predictions, palette='viridis')\n",
    "plt.title('Distribution of Predictions (Sexist vs. Racist)')\n",
    "plt.xlabel('Prediction')\n",
    "plt.ylabel('Count')\n",
    "plt.show()\n"
   ]
  },
  {
   "cell_type": "code",
   "execution_count": 21,
   "metadata": {},
   "outputs": [
    {
     "name": "stdout",
     "output_type": "stream",
     "text": [
      "Accuracy: 0.6220767072029935\n"
     ]
    }
   ],
   "source": [
    "from sklearn.metrics import accuracy_score\n",
    "\n",
    "# Assuming the model's predictions are in 'predictions' column\n",
    "# Convert 'Sexist' to 1 and 'Racist' to 0 for comparison with 'oh_label' column\n",
    "twitter_data_with_predictions['predictions_numeric'] = twitter_data_with_predictions['predictions'].apply(lambda x: 1 if x == 'Sexist' else 0)\n",
    "\n",
    "# Calculate accuracy\n",
    "accuracy = accuracy_score(twitter_data_with_predictions['oh_label'], twitter_data_with_predictions['predictions_numeric'])\n",
    "print(f\"Accuracy: {accuracy}\")\n"
   ]
  },
  {
   "cell_type": "code",
   "execution_count": 25,
   "metadata": {},
   "outputs": [
    {
     "name": "stderr",
     "output_type": "stream",
     "text": [
      "Some weights of BertForSequenceClassification were not initialized from the model checkpoint at bert-base-uncased and are newly initialized: ['classifier.bias', 'classifier.weight']\n",
      "You should probably TRAIN this model on a down-stream task to be able to use it for predictions and inference.\n"
     ]
    }
   ],
   "source": [
    "import torch\n",
    "import torch.nn.functional as F\n",
    "from transformers import BertTokenizer, BertForSequenceClassification\n",
    "\n",
    "# Load the pre-trained model and tokenizer\n",
    "model = BertForSequenceClassification.from_pretrained('bert-base-uncased', num_labels=2)\n",
    "model.load_state_dict(torch.load('sexism_racism_bert_model.pth'))\n",
    "model.eval()  # Set the model to evaluation mode\n",
    "\n",
    "tokenizer = BertTokenizer.from_pretrained('bert-base-uncased')\n",
    "\n",
    "def get_prediction_probabilities(tweet):\n",
    "    # Tokenize the tweet\n",
    "    inputs = tokenizer(tweet, return_tensors='pt', truncation=True, padding=True, max_length=128)\n",
    "    \n",
    "    # Get the logits from the model\n",
    "    with torch.no_grad():\n",
    "        outputs = model(**inputs)\n",
    "        logits = outputs.logits\n",
    "    \n",
    "    # Apply softmax to get probabilities\n",
    "    probabilities = F.softmax(logits, dim=1)\n",
    "    \n",
    "    # Get the probability for each class\n",
    "    return probabilities.squeeze().cpu().numpy()\n",
    "\n",
    "# Apply the function to get prediction probabilities\n",
    "twitter_data['prediction_probabilities'] = twitter_data['cleaned_text'].apply(lambda x: get_prediction_probabilities(x)[1])  # Probability for \"Sexist\" class"
   ]
  },
  {
   "cell_type": "code",
   "execution_count": 26,
   "metadata": {},
   "outputs": [
    {
     "data": {
      "image/png": "[encoded data removed]",
      "text/plain": [
       "<Figure size 800x600 with 1 Axes>"
      ]
     },
     "metadata": {},
     "output_type": "display_data"
    }
   ],
   "source": [
    "import matplotlib.pyplot as plt\n",
    "\n",
    "# Plot the histogram of prediction probabilities for the \"Sexist\" class\n",
    "plt.figure(figsize=(8, 6))\n",
    "plt.hist(twitter_data['prediction_probabilities'], bins=20, color='skyblue', edgecolor='black')\n",
    "plt.title('Histogram of Prediction Probabilities for Sexist Class')\n",
    "plt.xlabel('Prediction Probability')\n",
    "plt.ylabel('Frequency')\n",
    "plt.show()\n"
   ]
  },
  {
   "cell_type": "markdown",
   "metadata": {},
   "source": [
    "## UMAP for Clustering Sentence Embeddings"
   ]
  },
  {
   "cell_type": "markdown",
   "metadata": {},
   "source": []
  }
 ],
 "metadata": {
  "kernelspec": {
   "display_name": "base",
   "language": "python",
   "name": "python3"
  },
  "language_info": {
   "codemirror_mode": {
    "name": "ipython",
    "version": 3
   },
   "file_extension": ".py",
   "mimetype": "text/x-python",
   "name": "python",
   "nbconvert_exporter": "python",
   "pygments_lexer": "ipython3",
   "version": "3.12.4"
  }
 },
 "nbformat": 4,
 "nbformat_minor": 2
}
