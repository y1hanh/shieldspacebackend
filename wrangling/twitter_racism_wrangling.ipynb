{
 "cells": [
  {
   "cell_type": "code",
   "execution_count": 18,
   "metadata": {},
   "outputs": [],
   "source": [
    "import pandas as pd\n",
    "import re"
   ]
  },
  {
   "cell_type": "code",
   "execution_count": 10,
   "metadata": {},
   "outputs": [],
   "source": [
    "racism_data = pd.read_csv('twitter_racism_parsed_dataset.csv')"
   ]
  },
  {
   "cell_type": "code",
   "execution_count": 11,
   "metadata": {},
   "outputs": [
    {
     "data": {
      "text/html": [
       "<div>\n",
       "<style scoped>\n",
       "    .dataframe tbody tr th:only-of-type {\n",
       "        vertical-align: middle;\n",
       "    }\n",
       "\n",
       "    .dataframe tbody tr th {\n",
       "        vertical-align: top;\n",
       "    }\n",
       "\n",
       "    .dataframe thead th {\n",
       "        text-align: right;\n",
       "    }\n",
       "</style>\n",
       "<table border=\"1\" class=\"dataframe\">\n",
       "  <thead>\n",
       "    <tr style=\"text-align: right;\">\n",
       "      <th></th>\n",
       "      <th>index</th>\n",
       "      <th>id</th>\n",
       "      <th>Text</th>\n",
       "      <th>Annotation</th>\n",
       "      <th>oh_label</th>\n",
       "    </tr>\n",
       "  </thead>\n",
       "  <tbody>\n",
       "    <tr>\n",
       "      <th>0</th>\n",
       "      <td>5.767493e+17</td>\n",
       "      <td>5.767493e+17</td>\n",
       "      <td>@AAlwuhaib1977 Muslim mob violence against Hin...</td>\n",
       "      <td>racism</td>\n",
       "      <td>1</td>\n",
       "    </tr>\n",
       "    <tr>\n",
       "      <th>1</th>\n",
       "      <td>5.408905e+17</td>\n",
       "      <td>5.408905e+17</td>\n",
       "      <td>@Te4m_NiGhtM4Re http://t.co/5Ih7MkDbQG</td>\n",
       "      <td>none</td>\n",
       "      <td>0</td>\n",
       "    </tr>\n",
       "    <tr>\n",
       "      <th>2</th>\n",
       "      <td>5.678433e+17</td>\n",
       "      <td>5.678433e+17</td>\n",
       "      <td>@jncatron @isra_jourisra @AMPalestine Islamoph...</td>\n",
       "      <td>racism</td>\n",
       "      <td>1</td>\n",
       "    </tr>\n",
       "    <tr>\n",
       "      <th>3</th>\n",
       "      <td>5.766462e+17</td>\n",
       "      <td>5.766462e+17</td>\n",
       "      <td>Finally I'm all caught up, and that sudden dea...</td>\n",
       "      <td>none</td>\n",
       "      <td>0</td>\n",
       "    </tr>\n",
       "    <tr>\n",
       "      <th>4</th>\n",
       "      <td>5.713492e+17</td>\n",
       "      <td>5.713492e+17</td>\n",
       "      <td>@carolinesinders @herecomesfran *hugs*</td>\n",
       "      <td>none</td>\n",
       "      <td>0</td>\n",
       "    </tr>\n",
       "  </tbody>\n",
       "</table>\n",
       "</div>"
      ],
      "text/plain": [
       "          index            id  \\\n",
       "0  5.767493e+17  5.767493e+17   \n",
       "1  5.408905e+17  5.408905e+17   \n",
       "2  5.678433e+17  5.678433e+17   \n",
       "3  5.766462e+17  5.766462e+17   \n",
       "4  5.713492e+17  5.713492e+17   \n",
       "\n",
       "                                                Text Annotation  oh_label  \n",
       "0  @AAlwuhaib1977 Muslim mob violence against Hin...     racism         1  \n",
       "1             @Te4m_NiGhtM4Re http://t.co/5Ih7MkDbQG       none         0  \n",
       "2  @jncatron @isra_jourisra @AMPalestine Islamoph...     racism         1  \n",
       "3  Finally I'm all caught up, and that sudden dea...       none         0  \n",
       "4             @carolinesinders @herecomesfran *hugs*       none         0  "
      ]
     },
     "execution_count": 11,
     "metadata": {},
     "output_type": "execute_result"
    }
   ],
   "source": [
    "racism_data.head()"
   ]
  },
  {
   "cell_type": "code",
   "execution_count": 12,
   "metadata": {},
   "outputs": [],
   "source": [
    "racism_data_1 = racism_data[racism_data['oh_label'] == 1]  # Records where oh_label is 1\n",
    "racism_data_0 = racism_data[racism_data['oh_label'] == 0]  # Records where oh_label is 0"
   ]
  },
  {
   "cell_type": "code",
   "execution_count": 13,
   "metadata": {},
   "outputs": [
    {
     "name": "stdout",
     "output_type": "stream",
     "text": [
      "Total duplicate rows based on index and id: 0\n"
     ]
    }
   ],
   "source": [
    "num_duplicates = racism_data_1.duplicated(subset=['index', 'id']).sum()\n",
    "print(f\"Total duplicate rows based on index and id: {num_duplicates}\")"
   ]
  },
  {
   "cell_type": "code",
   "execution_count": 14,
   "metadata": {},
   "outputs": [],
   "source": [
    "def format_id(value):\n",
    "    value_int = int(value)  # Convert scientific notation to integer\n",
    "    value_str = str(value_int)  # Convert to string for formatting\n",
    "    return f\"{value_str[:4]}-{value_str[4:8]}-{value_str[8:12]}-{value_str[12:16]}-{value_str[16:]}\"  # Add hyphens"
   ]
  },
  {
   "cell_type": "code",
   "execution_count": 15,
   "metadata": {},
   "outputs": [
    {
     "name": "stderr",
     "output_type": "stream",
     "text": [
      "C:\\Users\\Jeevan\\AppData\\Local\\Temp\\ipykernel_13320\\2524733444.py:2: SettingWithCopyWarning: \n",
      "A value is trying to be set on a copy of a slice from a DataFrame.\n",
      "Try using .loc[row_indexer,col_indexer] = value instead\n",
      "\n",
      "See the caveats in the documentation: https://pandas.pydata.org/pandas-docs/stable/user_guide/indexing.html#returning-a-view-versus-a-copy\n",
      "  racism_data_1['formatted_index'] = racism_data_1['index'].apply(format_id)\n",
      "C:\\Users\\Jeevan\\AppData\\Local\\Temp\\ipykernel_13320\\2524733444.py:3: SettingWithCopyWarning: \n",
      "A value is trying to be set on a copy of a slice from a DataFrame.\n",
      "Try using .loc[row_indexer,col_indexer] = value instead\n",
      "\n",
      "See the caveats in the documentation: https://pandas.pydata.org/pandas-docs/stable/user_guide/indexing.html#returning-a-view-versus-a-copy\n",
      "  racism_data_1['formatted_id'] = racism_data_1['id'].apply(format_id)\n"
     ]
    }
   ],
   "source": [
    "# Apply the transformation to 'index' and 'id'\n",
    "racism_data_1['formatted_index'] = racism_data_1['index'].apply(format_id)\n",
    "racism_data_1['formatted_id'] = racism_data_1['id'].apply(format_id)"
   ]
  },
  {
   "cell_type": "code",
   "execution_count": 17,
   "metadata": {},
   "outputs": [
    {
     "data": {
      "text/html": [
       "<div>\n",
       "<style scoped>\n",
       "    .dataframe tbody tr th:only-of-type {\n",
       "        vertical-align: middle;\n",
       "    }\n",
       "\n",
       "    .dataframe tbody tr th {\n",
       "        vertical-align: top;\n",
       "    }\n",
       "\n",
       "    .dataframe thead th {\n",
       "        text-align: right;\n",
       "    }\n",
       "</style>\n",
       "<table border=\"1\" class=\"dataframe\">\n",
       "  <thead>\n",
       "    <tr style=\"text-align: right;\">\n",
       "      <th></th>\n",
       "      <th>formatted_index</th>\n",
       "      <th>formatted_id</th>\n",
       "    </tr>\n",
       "  </thead>\n",
       "  <tbody>\n",
       "    <tr>\n",
       "      <th>0</th>\n",
       "      <td>5767-4933-6190-5250-56</td>\n",
       "      <td>5767-4933-6190-5250-56</td>\n",
       "    </tr>\n",
       "    <tr>\n",
       "      <th>2</th>\n",
       "      <td>5678-4332-0338-1249-92</td>\n",
       "      <td>5678-4332-0338-1249-92</td>\n",
       "    </tr>\n",
       "    <tr>\n",
       "      <th>8</th>\n",
       "      <td>5646-0409-0752-0609-92</td>\n",
       "      <td>5646-0409-0752-0609-92</td>\n",
       "    </tr>\n",
       "    <tr>\n",
       "      <th>9</th>\n",
       "      <td>5633-6995-6734-0300-16</td>\n",
       "      <td>5633-6995-6734-0300-16</td>\n",
       "    </tr>\n",
       "    <tr>\n",
       "      <th>10</th>\n",
       "      <td>5669-8397-0571-5790-08</td>\n",
       "      <td>5669-8397-0571-5790-08</td>\n",
       "    </tr>\n",
       "  </tbody>\n",
       "</table>\n",
       "</div>"
      ],
      "text/plain": [
       "           formatted_index            formatted_id\n",
       "0   5767-4933-6190-5250-56  5767-4933-6190-5250-56\n",
       "2   5678-4332-0338-1249-92  5678-4332-0338-1249-92\n",
       "8   5646-0409-0752-0609-92  5646-0409-0752-0609-92\n",
       "9   5633-6995-6734-0300-16  5633-6995-6734-0300-16\n",
       "10  5669-8397-0571-5790-08  5669-8397-0571-5790-08"
      ]
     },
     "execution_count": 17,
     "metadata": {},
     "output_type": "execute_result"
    }
   ],
   "source": [
    "# Display the updated dataframe\n",
    "racism_data_1[['formatted_index', 'formatted_id']].head()"
   ]
  },
  {
   "cell_type": "code",
   "execution_count": 31,
   "metadata": {},
   "outputs": [],
   "source": [
    "def extract_and_remove_mentions_hashtags_links(text):\n",
    "    usernames = re.findall(r'@\\w+', text)  # Extract usernames\n",
    "    hashtags = re.findall(r'#\\w+', text)  # Extract hashtags\n",
    "    links = re.findall(r'http[s]?://\\S+', text)  # Extract links starting with http\n",
    "    clean_text = re.sub(r'@\\w+|#\\w+|http[s]?://\\S+', '', text).strip()  # Remove usernames, hashtags, and links\n",
    "    return clean_text, ' '.join(usernames), ' '.join(hashtags), ' '.join(links)  # Return cleaned text and extracted words"
   ]
  },
  {
   "cell_type": "code",
   "execution_count": 32,
   "metadata": {},
   "outputs": [
    {
     "name": "stderr",
     "output_type": "stream",
     "text": [
      "C:\\Users\\Jeevan\\AppData\\Local\\Temp\\ipykernel_13320\\2912312543.py:1: SettingWithCopyWarning: \n",
      "A value is trying to be set on a copy of a slice from a DataFrame.\n",
      "Try using .loc[row_indexer,col_indexer] = value instead\n",
      "\n",
      "See the caveats in the documentation: https://pandas.pydata.org/pandas-docs/stable/user_guide/indexing.html#returning-a-view-versus-a-copy\n",
      "  racism_data_1[['cleaned_text', 'users', 'hashtags','links']] = racism_data_1['Text'].apply(lambda x: pd.Series(extract_and_remove_mentions_hashtags_links(x)))\n",
      "C:\\Users\\Jeevan\\AppData\\Local\\Temp\\ipykernel_13320\\2912312543.py:1: SettingWithCopyWarning: \n",
      "A value is trying to be set on a copy of a slice from a DataFrame.\n",
      "Try using .loc[row_indexer,col_indexer] = value instead\n",
      "\n",
      "See the caveats in the documentation: https://pandas.pydata.org/pandas-docs/stable/user_guide/indexing.html#returning-a-view-versus-a-copy\n",
      "  racism_data_1[['cleaned_text', 'users', 'hashtags','links']] = racism_data_1['Text'].apply(lambda x: pd.Series(extract_and_remove_mentions_hashtags_links(x)))\n"
     ]
    }
   ],
   "source": [
    "racism_data_1[['cleaned_text', 'users', 'hashtags','links']] = racism_data_1['Text'].apply(lambda x: pd.Series(extract_and_remove_mentions_hashtags_links(x)))"
   ]
  },
  {
   "cell_type": "code",
   "execution_count": 33,
   "metadata": {},
   "outputs": [
    {
     "data": {
      "text/html": [
       "<div>\n",
       "<style scoped>\n",
       "    .dataframe tbody tr th:only-of-type {\n",
       "        vertical-align: middle;\n",
       "    }\n",
       "\n",
       "    .dataframe tbody tr th {\n",
       "        vertical-align: top;\n",
       "    }\n",
       "\n",
       "    .dataframe thead th {\n",
       "        text-align: right;\n",
       "    }\n",
       "</style>\n",
       "<table border=\"1\" class=\"dataframe\">\n",
       "  <thead>\n",
       "    <tr style=\"text-align: right;\">\n",
       "      <th></th>\n",
       "      <th>cleaned_text</th>\n",
       "      <th>users</th>\n",
       "      <th>hashtags</th>\n",
       "      <th>links</th>\n",
       "    </tr>\n",
       "  </thead>\n",
       "  <tbody>\n",
       "    <tr>\n",
       "      <th>0</th>\n",
       "      <td>Muslim mob violence against Hindus in Banglade...</td>\n",
       "      <td>@AAlwuhaib1977</td>\n",
       "      <td>#Islam</td>\n",
       "      <td>http://t.co/C1JBWJwuRc</td>\n",
       "    </tr>\n",
       "    <tr>\n",
       "      <th>2</th>\n",
       "      <td>Islamophobia is like the idea of Naziphobia. I...</td>\n",
       "      <td>@jncatron @isra_jourisra @AMPalestine</td>\n",
       "      <td></td>\n",
       "      <td></td>\n",
       "    </tr>\n",
       "    <tr>\n",
       "      <th>8</th>\n",
       "      <td>Islam invaded and conquered 2/3 of Christiando...</td>\n",
       "      <td>@HuffPostRelig</td>\n",
       "      <td></td>\n",
       "      <td></td>\n",
       "    </tr>\n",
       "    <tr>\n",
       "      <th>9</th>\n",
       "      <td>Do you approve of your pedophile prophet rapin...</td>\n",
       "      <td>@semzyxx</td>\n",
       "      <td></td>\n",
       "      <td></td>\n",
       "    </tr>\n",
       "    <tr>\n",
       "      <th>10</th>\n",
       "      <td>Problem with vile Muslims is that they try to ...</td>\n",
       "      <td>@watan71969 @geeky_zekey</td>\n",
       "      <td></td>\n",
       "      <td></td>\n",
       "    </tr>\n",
       "  </tbody>\n",
       "</table>\n",
       "</div>"
      ],
      "text/plain": [
       "                                         cleaned_text  \\\n",
       "0   Muslim mob violence against Hindus in Banglade...   \n",
       "2   Islamophobia is like the idea of Naziphobia. I...   \n",
       "8   Islam invaded and conquered 2/3 of Christiando...   \n",
       "9   Do you approve of your pedophile prophet rapin...   \n",
       "10  Problem with vile Muslims is that they try to ...   \n",
       "\n",
       "                                    users hashtags                   links  \n",
       "0                          @AAlwuhaib1977   #Islam  http://t.co/C1JBWJwuRc  \n",
       "2   @jncatron @isra_jourisra @AMPalestine                                   \n",
       "8                          @HuffPostRelig                                   \n",
       "9                                @semzyxx                                   \n",
       "10               @watan71969 @geeky_zekey                                   "
      ]
     },
     "execution_count": 33,
     "metadata": {},
     "output_type": "execute_result"
    }
   ],
   "source": [
    "racism_data_1[['cleaned_text', 'users', 'hashtags','links']].head()"
   ]
  },
  {
   "cell_type": "code",
   "execution_count": 35,
   "metadata": {},
   "outputs": [],
   "source": [
    "# Reorder and drop unnecessary columns\n",
    "racism_data_1 = racism_data_1[['formatted_index', 'formatted_id', 'cleaned_text', 'Annotation', 'oh_label', 'users', 'hashtags', 'links']]"
   ]
  },
  {
   "cell_type": "code",
   "execution_count": 36,
   "metadata": {},
   "outputs": [],
   "source": [
    "# Save the cleaned dataframe to a CSV file\n",
    "racism_data_1.to_csv('racism_cleaned_dataset.csv', index=False)"
   ]
  }
 ],
 "metadata": {
  "kernelspec": {
   "display_name": "base",
   "language": "python",
   "name": "python3"
  },
  "language_info": {
   "codemirror_mode": {
    "name": "ipython",
    "version": 3
   },
   "file_extension": ".py",
   "mimetype": "text/x-python",
   "name": "python",
   "nbconvert_exporter": "python",
   "pygments_lexer": "ipython3",
   "version": "3.12.4"
  }
 },
 "nbformat": 4,
 "nbformat_minor": 2
}
